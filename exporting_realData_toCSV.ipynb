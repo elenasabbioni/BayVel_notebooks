{
 "cells": [
  {
   "attachments": {},
   "cell_type": "markdown",
   "id": "976e3553",
   "metadata": {},
   "source": [
    "# Prepare real data in a format compatible with BayVel\n",
    "Since *BayVel* runs in Julia and R, we need to export the real dataset in a format that is compatible with these programming languages. \n",
    "\n",
    "In particular, we will save the dataset as csv file. We will save different file, depending on the scVelo pre-processing functions applied. \n"
   ]
  },
  {
   "cell_type": "markdown",
   "id": "a82831ed",
   "metadata": {},
   "source": [
    "Load the packages."
   ]
  },
  {
   "cell_type": "code",
   "execution_count": 1,
   "id": "76d5c8f9",
   "metadata": {},
   "outputs": [],
   "source": [
    "import scanpy\n",
    "import scvelo as scv\n",
    "import numpy as np\n",
    "import scipy.sparse\n",
    "import pandas as pd \n",
    "import copy "
   ]
  },
  {
   "cell_type": "code",
   "execution_count": 2,
   "id": "884c1141",
   "metadata": {},
   "outputs": [],
   "source": [
    "scv.settings.verbosity = 3  # show errors(0), warnings(1), info(2), hints(3)\n",
    "scv.settings.presenter_view = True  # set max width size for presenter view\n",
    "scv.settings.set_figure_params('scvelo')  # for beautified visualization"
   ]
  },
  {
   "cell_type": "markdown",
   "id": "e7500fcf",
   "metadata": {},
   "source": [
    "Set which dataset (\"Pancreas\" or \"DentateGyrus\") we want to prepare in a format compatible with *Bayel* and set the path where the .csv files will be saved."
   ]
  },
  {
   "cell_type": "code",
   "execution_count": 3,
   "id": "9a5e4634",
   "metadata": {},
   "outputs": [],
   "source": [
    "typeSIM = \"Pancreas\"\n",
    "pathOutput = \"pathOutput\""
   ]
  },
  {
   "cell_type": "markdown",
   "id": "9efd9e2a",
   "metadata": {},
   "source": [
    "Load the data."
   ]
  },
  {
   "cell_type": "code",
   "execution_count": 4,
   "id": "870ae48b",
   "metadata": {},
   "outputs": [
    {
     "name": "stderr",
     "output_type": "stream",
     "text": [
      "100%|██████████| 50.0M/50.0M [00:02<00:00, 17.5MB/s]\n"
     ]
    }
   ],
   "source": [
    "if typeSIM == \"Pancreas\":\n",
    "    adata = scv.datasets.pancreas()\n",
    "elif typeSIM == \"DentateGyrus\":\n",
    "    adata = scv.datasets.dentategyrus()"
   ]
  },
  {
   "cell_type": "markdown",
   "id": "71bf5bf0",
   "metadata": {},
   "source": [
    "Apply the scVelo pre-processing steps, with the default parameters used in scVelo notebooks. \n",
    "\n",
    "First of all preform the filtering of the genes."
   ]
  },
  {
   "cell_type": "code",
   "execution_count": 6,
   "id": "b99c206e",
   "metadata": {},
   "outputs": [
    {
     "name": "stdout",
     "output_type": "stream",
     "text": [
      "Filtered out 20801 genes that are detected 20 counts (shared).\n"
     ]
    }
   ],
   "source": [
    "scv.pp.filter_genes(adata, min_shared_counts=20)\n",
    "adata_filter = copy.deepcopy(adata)"
   ]
  },
  {
   "cell_type": "markdown",
   "id": "a4c402aa",
   "metadata": {},
   "source": [
    "Now normalize the data and extract the 200 most high variable genes."
   ]
  },
  {
   "cell_type": "code",
   "execution_count": 7,
   "id": "3876e493",
   "metadata": {},
   "outputs": [
    {
     "name": "stdout",
     "output_type": "stream",
     "text": [
      "Normalized count data: X, spliced, unspliced.\n",
      "Extracted 2000 highly variable genes.\n"
     ]
    }
   ],
   "source": [
    "scv.pp.normalize_per_cell(adata)\n",
    "scv.pp.filter_genes_dispersion(adata, n_top_genes=2000)"
   ]
  },
  {
   "cell_type": "markdown",
   "id": "65981c0a",
   "metadata": {},
   "source": [
    "Save the results of the different pre-processing steps."
   ]
  },
  {
   "cell_type": "code",
   "execution_count": null,
   "id": "36d0b0e0",
   "metadata": {},
   "outputs": [],
   "source": [
    "# Just filtering of the 2000 most highly variable genes\n",
    "path = pathOutput + \"/\" + typeSIM + \"/filter\"\n",
    "\n",
    "adata_filter_toGenes2000 = adata_filter[:,adata.var_names]\n",
    "\n",
    "adata_filter_toGenes2000.write_csvs(path + \"/\", skip_data=False)\n",
    "unspliced = pd.DataFrame(data=scipy.sparse.csr_matrix.todense(adata_filter_toGenes2000.layers[\"unspliced\"]))\n",
    "unspliced.to_csv(path + \"/unspliced.csv\", index=False)\n",
    "spliced = pd.DataFrame(data=scipy.sparse.csr_matrix.todense(adata_filter_toGenes2000.layers[\"spliced\"]))\n",
    "spliced.to_csv(path + \"/spliced.csv\", index=False)"
   ]
  },
  {
   "cell_type": "code",
   "execution_count": null,
   "id": "8718dedd",
   "metadata": {},
   "outputs": [],
   "source": [
    "# normalized data\n",
    "path = pathOutput + \"/\" + typeSIM + \"/filter_and_normalize_noLog\"\n",
    "\n",
    "adata.write_csvs(path + \"/\", skip_data=False)\n",
    "unspliced = pd.DataFrame(data=scipy.sparse.csr_matrix.todense(adata.layers[\"unspliced\"]))\n",
    "unspliced.to_csv(path + '/unspliced.csv', index=False)\n",
    "spliced = pd.DataFrame(data=scipy.sparse.csr_matrix.todense(adata.layers[\"spliced\"]))\n",
    "spliced.to_csv(path + '/spliced.csv', index=False)"
   ]
  },
  {
   "cell_type": "markdown",
   "id": "a00885f0",
   "metadata": {},
   "source": [
    "Now take the logarithm of the data and then save the data again."
   ]
  },
  {
   "cell_type": "code",
   "execution_count": 9,
   "id": "db79dd19",
   "metadata": {},
   "outputs": [
    {
     "name": "stderr",
     "output_type": "stream",
     "text": [
      "C:\\Users\\elena\\AppData\\Local\\Temp\\ipykernel_31856\\422034005.py:1: DeprecationWarning: `log1p` is deprecated since scVelo v0.3.0 and will be removed in a future version. Please use `log1p` from `scanpy.pp` instead.\n",
      "  scv.pp.log1p(adata)\n"
     ]
    }
   ],
   "source": [
    "scv.pp.log1p(adata)"
   ]
  },
  {
   "cell_type": "code",
   "execution_count": null,
   "id": "af529bea",
   "metadata": {},
   "outputs": [],
   "source": [
    "path = pathOutput + \"/\" + typeSIM + \"/filter_and_normalize\"\n",
    "\n",
    "adata.write_csvs(path + \"/\", skip_data=False)\n",
    "\n",
    "unspliced = pd.DataFrame(data=scipy.sparse.csr_matrix.todense(adata.layers[\"unspliced\"]))\n",
    "unspliced.to_csv(path + '/unspliced.csv', index=False)\n",
    "spliced = pd.DataFrame(data=scipy.sparse.csr_matrix.todense(adata.layers[\"spliced\"]))\n",
    "spliced.to_csv(path + '/spliced.csv', index=False)"
   ]
  },
  {
   "cell_type": "markdown",
   "id": "0e6c52ce",
   "metadata": {},
   "source": [
    "As last step computes also the moments and save the last dataset. "
   ]
  },
  {
   "cell_type": "code",
   "execution_count": null,
   "id": "5ceb43de",
   "metadata": {},
   "outputs": [],
   "source": [
    "scv.pp.moments(adata, n_pcs=30, n_neighbors=30)"
   ]
  },
  {
   "cell_type": "code",
   "execution_count": null,
   "id": "4727fba3",
   "metadata": {},
   "outputs": [],
   "source": [
    "path = pathOutput + \"/\" + typeSIM + \"/moments\"\n",
    "\n",
    "adata.write_csvs(path + \"/\", skip_data=False)\n",
    "\n",
    "unspliced = pd.DataFrame(data=scipy.sparse.csr_matrix.todense(adata.layers[\"unspliced\"]))\n",
    "unspliced.to_csv(path + '/unspliced.csv', index=False)\n",
    "spliced = pd.DataFrame(data=scipy.sparse.csr_matrix.todense(adata.layers[\"spliced\"]))\n",
    "spliced.to_csv(path + '/spliced.csv', index=False)\n",
    "\n",
    "Mu = pd.DataFrame(np.asmatrix(adata.layers[\"Mu\"]))\n",
    "Mu.to_csv(path + '/Mu.csv', index=False)\n",
    "Ms = pd.DataFrame(np.asmatrix(adata.layers[\"Ms\"]))\n",
    "Ms.to_csv(path + '/Ms.csv', index=False)"
   ]
  }
 ],
 "metadata": {
  "kernelspec": {
   "display_name": "Python 3",
   "language": "python",
   "name": "python3"
  },
  "language_info": {
   "codemirror_mode": {
    "name": "ipython",
    "version": 3
   },
   "file_extension": ".py",
   "mimetype": "text/x-python",
   "name": "python",
   "nbconvert_exporter": "python",
   "pygments_lexer": "ipython3",
   "version": "3.9.7"
  },
  "toc": {
   "base_numbering": 1,
   "nav_menu": {},
   "number_sections": true,
   "sideBar": true,
   "skip_h1_title": false,
   "title_cell": "Table of Contents",
   "title_sidebar": "Contents",
   "toc_cell": false,
   "toc_position": {},
   "toc_section_display": true,
   "toc_window_display": false
  }
 },
 "nbformat": 4,
 "nbformat_minor": 5
}
